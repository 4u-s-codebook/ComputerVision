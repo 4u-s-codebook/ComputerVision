{
  "nbformat": 4,
  "nbformat_minor": 0,
  "metadata": {
    "colab": {
      "name": "AIProject",
      "provenance": [],
      "collapsed_sections": [],
      "include_colab_link": true
    },
    "kernelspec": {
      "name": "python3",
      "display_name": "Python 3"
    },
    "accelerator": "GPU"
  },
  "cells": [
    {
      "cell_type": "markdown",
      "metadata": {
        "id": "view-in-github",
        "colab_type": "text"
      },
      "source": [
        "<a href=\"https://colab.research.google.com/github/4u-s-codebook/ComputerVision/blob/master/AIProject.ipynb\" target=\"_parent\"><img src=\"https://colab.research.google.com/assets/colab-badge.svg\" alt=\"Open In Colab\"/></a>"
      ]
    },
    {
      "cell_type": "code",
      "metadata": {
        "id": "YInjrxc_wf4_",
        "colab_type": "code",
        "colab": {}
      },
      "source": [
        "!ls\n",
        "%cd repo/data/scripts\n",
        "!ls\n",
        "!sh VOC2007.sh"
      ],
      "execution_count": 0,
      "outputs": []
    },
    {
      "cell_type": "code",
      "metadata": {
        "id": "9FAH4JIUu1eP",
        "colab_type": "code",
        "colab": {}
      },
      "source": [
        "!ls\n",
        "!mkdir repo"
      ],
      "execution_count": 0,
      "outputs": []
    },
    {
      "cell_type": "code",
      "metadata": {
        "id": "P0r2bYWaC9xk",
        "colab_type": "code",
        "colab": {}
      },
      "source": [
        "!git clone https://github.com/bailvwangzi/repulsion_loss_ssd.git repo"
      ],
      "execution_count": 0,
      "outputs": []
    },
    {
      "cell_type": "code",
      "metadata": {
        "id": "I-iBuVc5CrTh",
        "colab_type": "code",
        "colab": {}
      },
      "source": [
        "!ls\n",
        "%cd Repo"
      ],
      "execution_count": 0,
      "outputs": []
    },
    {
      "cell_type": "code",
      "metadata": {
        "id": "Al3JrLsF-oMy",
        "colab_type": "code",
        "colab": {}
      },
      "source": [
        "from google.colab import drive\n",
        "drive.mount('/content/drive')"
      ],
      "execution_count": 0,
      "outputs": []
    },
    {
      "cell_type": "code",
      "metadata": {
        "id": "oHpkXM1JDVQb",
        "colab_type": "code",
        "colab": {}
      },
      "source": [
        "!sh VOC2012.sh"
      ],
      "execution_count": 0,
      "outputs": []
    },
    {
      "cell_type": "code",
      "metadata": {
        "id": "GHBRO8GG5IQq",
        "colab_type": "code",
        "colab": {}
      },
      "source": [
        "%cd weights/\n",
        "!ls\n",
        "!wget https://s3.amazonaws.com/amdegroot-models/vgg16_reducedfc.pth"
      ],
      "execution_count": 0,
      "outputs": []
    },
    {
      "cell_type": "code",
      "metadata": {
        "id": "se27P47e-Shi",
        "colab_type": "code",
        "colab": {}
      },
      "source": [
        "!nvidia-smi"
      ],
      "execution_count": 0,
      "outputs": []
    },
    {
      "cell_type": "code",
      "metadata": {
        "id": "Ci0_Ge2P7q-7",
        "colab_type": "code",
        "colab": {}
      },
      "source": [
        "!ls\n",
        "%cd ..\n",
        "%cd repo/data/scripts"
      ],
      "execution_count": 0,
      "outputs": []
    },
    {
      "cell_type": "code",
      "metadata": {
        "id": "QCLzxCvv9nNx",
        "colab_type": "code",
        "colab": {}
      },
      "source": [
        "%cd ..\n",
        "%cd ..\n"
      ],
      "execution_count": 0,
      "outputs": []
    },
    {
      "cell_type": "code",
      "metadata": {
        "id": "kD2iG9bceJlf",
        "colab_type": "code",
        "colab": {}
      },
      "source": [
        "!mkdir weights\n",
        "%cd weights\n",
        "!wget https://s3.amazonaws.com/amdegroot-models/vgg16_reducedfc.pth"
      ],
      "execution_count": 0,
      "outputs": []
    },
    {
      "cell_type": "code",
      "metadata": {
        "id": "gJZ75hF1eWJd",
        "colab_type": "code",
        "colab": {}
      },
      "source": [
        "!python train.py --dataset 'VOC'"
      ],
      "execution_count": 0,
      "outputs": []
    },
    {
      "cell_type": "code",
      "metadata": {
        "id": "6d_7f4cge_Nl",
        "colab_type": "code",
        "colab": {}
      },
      "source": [
        "!python eval.py"
      ],
      "execution_count": 0,
      "outputs": []
    },
    {
      "cell_type": "code",
      "metadata": {
        "id": "h0BfGp0BhMVW",
        "colab_type": "code",
        "colab": {}
      },
      "source": [
        "demo/demo.ipynb at http://localhost:8888"
      ],
      "execution_count": 0,
      "outputs": []
    },
    {
      "cell_type": "markdown",
      "metadata": {
        "id": "bcPFzJGwhWNd",
        "colab_type": "text"
      },
      "source": [
        "Try the demo notebook\n",
        "\n",
        "Make sure you have jupyter notebook installed.\n",
        "Two alternatives for installing jupyter notebook:\n",
        "If you installed PyTorch with conda (recommended), then you should already have it. (Just navigate to the ssd.pytorch cloned repo and run): jupyter notebook\n",
        "\n",
        "If using pip:\n",
        "\n",
        "**make sure pip is upgraded**\n",
        "\n",
        "pip3 install --upgrade pip\n",
        "\n",
        "**install jupyter notebook**\n",
        "\n",
        "pip install jupyter\n",
        "\n",
        "**Run this inside ssd.pytorch**\n",
        "\n",
        "jupyter notebook\n",
        "Now navigate to demo/demo.ipynb at http://localhost:8888 (by default) and have at it!\n",
        "Try the webcam demo\n",
        "\n",
        "Works on CPU (may have to tweak cv2.waitkey for optimal fps) or on an NVIDIA GPU\n",
        "This demo currently requires opencv2+ w/ python bindings and an onboard webcam\n",
        "You can change the default webcam in demo/live.py\n",
        "Install the imutils package to leverage multi-threading on CPU:\n",
        "pip install imutils\n",
        "Running python -m demo.live opens the webcam and begins detecting!"
      ]
    }
  ]
}