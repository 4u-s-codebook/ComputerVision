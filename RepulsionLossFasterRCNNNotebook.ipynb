{
  "nbformat": 4,
  "nbformat_minor": 0,
  "metadata": {
    "colab": {
      "name": "RepulsionLossFasterRCNNNotebook.ipynb",
      "provenance": [],
      "collapsed_sections": [
        "7ucfcwOWteyl"
      ],
      "machine_shape": "hm",
      "include_colab_link": true
    },
    "kernelspec": {
      "name": "python3",
      "display_name": "Python 3"
    },
    "accelerator": "GPU"
  },
  "cells": [
    {
      "cell_type": "markdown",
      "metadata": {
        "id": "view-in-github",
        "colab_type": "text"
      },
      "source": [
        "<a href=\"https://colab.research.google.com/github/charulatalodha/ComputerVision/blob/master/RepulsionLossFasterRCNNNotebook.ipynb\" target=\"_parent\"><img src=\"https://colab.research.google.com/assets/colab-badge.svg\" alt=\"Open In Colab\"/></a>"
      ]
    },
    {
      "cell_type": "code",
      "metadata": {
        "id": "y7yEUbCFCY8q",
        "colab_type": "code",
        "colab": {}
      },
      "source": [
        "from google.colab import drive\n",
        "drive.mount('/content/drive',force_remount=True)"
      ],
      "execution_count": 0,
      "outputs": []
    },
    {
      "cell_type": "code",
      "metadata": {
        "id": "nnPi_qb8Cd1Q",
        "colab_type": "code",
        "colab": {}
      },
      "source": [
        "%cd drive/My Drive/fasterrcnn18nov/faster2/repulsion-loss-faster-rcnn-pytorch/\n"
      ],
      "execution_count": 0,
      "outputs": []
    },
    {
      "cell_type": "markdown",
      "metadata": {
        "id": "bELMRvPAuIGL",
        "colab_type": "text"
      },
      "source": [
        "# Instructions :\n",
        "\n",
        "\n",
        "> Take my lib folder \n",
        " \n",
        "> Change the path of save_dir in training file\n",
        "\n",
        "> Change the '_devkit_path' in pascal_voc.py in /lib/datasets to point to /VOC2007\n",
        "\n",
        "\n",
        "\n",
        "\n",
        "\n",
        "\n",
        "\n"
      ]
    },
    {
      "cell_type": "markdown",
      "metadata": {
        "id": "7ucfcwOWteyl",
        "colab_type": "text"
      },
      "source": [
        "# Install compatible Torch Version "
      ]
    },
    {
      "cell_type": "code",
      "metadata": {
        "id": "cbbCegWubP9E",
        "colab_type": "code",
        "colab": {}
      },
      "source": [
        "!pip install torch==0.4.0 torchvision==0.2.0"
      ],
      "execution_count": 0,
      "outputs": []
    },
    {
      "cell_type": "code",
      "metadata": {
        "id": "e3gK5LxyDlfl",
        "colab_type": "code",
        "colab": {}
      },
      "source": [
        "# Before\n",
        "# Python 3.6.8\n",
        "# Cuda : 10.1.243\n",
        "# Torch Version : 1.3.1\n",
        "\n",
        "# After :\n",
        "# Python 3.6.8\n",
        "# Cuda : 8.0.61\n",
        "# Torch Version : 0.4.0"
      ],
      "execution_count": 0,
      "outputs": []
    },
    {
      "cell_type": "code",
      "metadata": {
        "id": "3xXv1RmWjQ5e",
        "colab_type": "code",
        "colab": {}
      },
      "source": [
        "import torch\n",
        "!python --version\n",
        "print('Cuda :',torch.version.cuda)\n",
        "print(torch.cuda.device_count())\n",
        "print(torch.cuda.current_device())\n",
        "print(torch.cuda.get_device_name(0))\n",
        "# Tesla P100-PCIE-16GB\n",
        "#'Tesla K80'\n",
        "!nvcc -V"
      ],
      "execution_count": 0,
      "outputs": []
    },
    {
      "cell_type": "markdown",
      "metadata": {
        "id": "nx5Z1DortuoQ",
        "colab_type": "text"
      },
      "source": [
        "#Insatll CUDA"
      ]
    },
    {
      "cell_type": "code",
      "metadata": {
        "id": "8Caf_9SOKbVU",
        "colab_type": "code",
        "colab": {}
      },
      "source": [
        "#Change CUDA to 9 and download compatible torch \n",
        "!git clone https://gist.github.com/f7b7c7758a46da49f84bc68b47997d69.git\n",
        "%cd content/drive/My Drive/fasterrcnn18nov/faster2/repulsion-loss-faster-rcnn-pytorch/\n",
        "%cd f7b7c7758a46da49f84bc68b47997d69/ \n",
        "!bash pytorch041_cuda92_colab.sh\n",
        "%cd .."
      ],
      "execution_count": 0,
      "outputs": []
    },
    {
      "cell_type": "markdown",
      "metadata": {
        "id": "InltD9TKt1XY",
        "colab_type": "text"
      },
      "source": [
        "# Check Requirements "
      ]
    },
    {
      "cell_type": "code",
      "metadata": {
        "id": "PpsHAYxeDFiI",
        "colab_type": "code",
        "colab": {}
      },
      "source": [
        "!pip install -r requirements.txt"
      ],
      "execution_count": 0,
      "outputs": []
    },
    {
      "cell_type": "code",
      "metadata": {
        "id": "EEXgLGArINp7",
        "colab_type": "code",
        "colab": {}
      },
      "source": [
        "!pip install Pillow\n",
        "!pip install scipy==1.1.0"
      ],
      "execution_count": 0,
      "outputs": []
    },
    {
      "cell_type": "code",
      "metadata": {
        "id": "TEJfrhmZDeZD",
        "colab_type": "code",
        "colab": {}
      },
      "source": [
        "%cd lib\n",
        "!sh make.sh\n",
        "%cd .."
      ],
      "execution_count": 0,
      "outputs": []
    },
    {
      "cell_type": "markdown",
      "metadata": {
        "id": "4ABWmz-9t8fk",
        "colab_type": "text"
      },
      "source": [
        "# Start Training :"
      ]
    },
    {
      "cell_type": "code",
      "metadata": {
        "id": "Qd10uHSMH3mv",
        "colab_type": "code",
        "colab": {}
      },
      "source": [
        "!python train_vgg_repulsion.py --dataset pascal_voc --net vgg16 --lr 1e-5 --bs 2 --cuda"
      ],
      "execution_count": 0,
      "outputs": []
    },
    {
      "cell_type": "markdown",
      "metadata": {
        "id": "9tP2MWL2sr9K",
        "colab_type": "text"
      },
      "source": [
        "#                **----------- END ----------------**\n",
        "\n",
        "\n",
        "\n",
        "\n",
        "\n",
        "\n",
        "\n"
      ]
    },
    {
      "cell_type": "code",
      "metadata": {
        "id": "yEY4FqF1trNW",
        "colab_type": "code",
        "colab": {}
      },
      "source": [
        "# !cp -r /content/drive/\"My Drive\"/fasterrcnn18nov/faster-rcnn.pytorch/lib /content/drive/\"My Drive\"/fasterrcnn18nov/faster2/repulsion-loss-faster-rcnn-pytorch/"
      ],
      "execution_count": 0,
      "outputs": []
    },
    {
      "cell_type": "code",
      "metadata": {
        "id": "mLterwJfHBTt",
        "colab_type": "code",
        "colab": {}
      },
      "source": [
        "!nvcc --version \n",
        "!nvidia-smi"
      ],
      "execution_count": 0,
      "outputs": []
    },
    {
      "cell_type": "code",
      "metadata": {
        "id": "zbEh_ATUr5GE",
        "colab_type": "code",
        "colab": {}
      },
      "source": [
        ""
      ],
      "execution_count": 0,
      "outputs": []
    },
    {
      "cell_type": "code",
      "metadata": {
        "id": "V59JtAZBQGsS",
        "colab_type": "code",
        "outputId": "9eb0cf43-00bb-4175-8482-af393db2c34f",
        "colab": {
          "base_uri": "https://localhost:8080/",
          "height": 34
        }
      },
      "source": [
        "%cd /content/drive/My Drive/fasterrcnn18nov/faster2/repulsion-loss-faster-rcnn-pytorch/\n",
        "# "
      ],
      "execution_count": 0,
      "outputs": [
        {
          "output_type": "stream",
          "text": [
            "/content/drive/My Drive/fasterrcnn18nov/faster2/repulsion-loss-faster-rcnn-pytorch\n"
          ],
          "name": "stdout"
        }
      ]
    },
    {
      "cell_type": "code",
      "metadata": {
        "id": "VgXYlt_FUOlu",
        "colab_type": "code",
        "colab": {}
      },
      "source": [
        "%cd /content/drive/My Drive/fasterrcnn18nov/faster2/repulsion-loss-faster-rcnn-pytorch/\n",
        "!ls"
      ],
      "execution_count": 0,
      "outputs": []
    },
    {
      "cell_type": "code",
      "metadata": {
        "id": "GpESQ4HpMkgM",
        "colab_type": "code",
        "colab": {}
      },
      "source": [
        "# Untar datasets\n",
        "!mkdir VOCdevkit\n",
        "#%cd VOCdevkit\n",
        "!tar xvf VOCtrainval_06-Nov-2007.tar\n",
        "!tar xvf VOCtest_06-Nov-2007.tar\n",
        "!tar xvf VOCdevkit_08-Jun-2007.tar"
      ],
      "execution_count": 0,
      "outputs": []
    },
    {
      "cell_type": "code",
      "metadata": {
        "id": "8OYzGqcqM23G",
        "colab_type": "code",
        "colab": {}
      },
      "source": [
        "# To create a link for dataset\n",
        "# !ls\n",
        "# %cd ..\n",
        "!ln -s /VOCdevkit /VOCdevkit2007"
      ],
      "execution_count": 0,
      "outputs": []
    }
  ]
}
